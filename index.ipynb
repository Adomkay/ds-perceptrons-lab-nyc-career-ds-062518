{
 "cells": [
  {
   "cell_type": "markdown",
   "metadata": {},
   "source": [
    "# Perceptrons Lab\n",
    "\n",
    "## Objective\n",
    "\n",
    "In this lab, we'll build the model that is the grandfather of the Deep Learning Revolution, the **_Single Layer Perceptron_**! We'll use numpy to build it from scratch, train it on a real dataset, and explore the use cases where it falls short.  \n",
    "\n",
    "### Getting Started: Single-Layer Perceptrons\n",
    "\n",
    "Recall the following diagram of Rosenblatt's Perceptron:\n",
    "\n",
    "<img src='perceptron-diagram.png' height=75% width=75%>\n",
    "\n",
    "<center><h4><em>Diagram of Rosenblatt's Perceptron</em></h4></center>\n",
    "\n",
    "This is exactly what we'll build.  We'll utitize our Object-Oriented Programming skills to build a `Perceptron` class, complete with methods for fitting our model and making predictions on data.  \n",
    "\n",
    "Let's start by importing the necessary libaries for this lab--run the cell below to do so. "
   ]
  },
  {
   "cell_type": "code",
   "execution_count": 1,
   "metadata": {},
   "outputs": [],
   "source": [
    "import numpy as np"
   ]
  },
  {
   "cell_type": "markdown",
   "metadata": {},
   "source": [
    "## Initialization\n",
    "\n",
    "The first thing we'll need to write is our `__init__()` function.  The design of this is fairly simple.  Let's think about everything our `Perceptron` objects will need:\n",
    "\n",
    "1. A Vector of weights\n",
    "1. A Vector of inputs (must be the same shape as the weights)\n",
    "1. A Threshold value. \n",
    "\n",
    "Our perceptron will make use of the most basic activation function possible. If the dot-product of or weight vector and our input vector is greater than or equal to the threshold value, then our perceptron should \"fire\" by returning a value of 1.  Otherwise, the perceptron should return a value of 0.  \n",
    "\n",
    "<img src='step-function.png' height=40% width=40%>\n",
    "<center><h4><em>The Activation Function for our Peceptron is a Step Function</em></h4></center>\n",
    "\n",
    "Since we know what our Perceptron will to do its job, we know that our `Perceptron` class will need the following attributes assigned at initialiazation time:\n",
    "\n",
    "* `self.weights`, to store a vector of weights that will correspond to our inputs.  \n",
    "* `self.threshold`, to define the threshold at which our perceptron object will fire.  \n",
    "\n",
    "We don't need to create an attribute to store the data itself which will act as our input, because we'll handle this in our `train` function later in the lab.  \n",
    "\n",
    "In the cell below, complete the `__init__()` function.  This function should take in two parameters, `weights`, and `threshold`, and assign them to attributes of the same name. "
   ]
  },
  {
   "cell_type": "code",
   "execution_count": 2,
   "metadata": {},
   "outputs": [],
   "source": [
    "class Perceptron(object):\n",
    "    \n",
    "    def __init__(self, weights, threshold):\n",
    "        self.weights = weights\n",
    "        self.threshold = threshold"
   ]
  },
  {
   "cell_type": "markdown",
   "metadata": {},
   "source": [
    "Great! Next, we'll write a helper function to `_compute()` the dot-product of our weights and our inputs.  This function should expect 1 parameter, `inputs`, and return the dot product of `inputs` and the weights stored in `self.weights`.  \n",
    "\n",
    "Complete the `_compute()` function in the cell below. \n",
    "\n",
    "**_HINT:_** Consider using the correct numpy function to easily compute the dot product of the weights and inputs vectors!"
   ]
  },
  {
   "cell_type": "code",
   "execution_count": 4,
   "metadata": {},
   "outputs": [],
   "source": [
    "def _compute(self, inputs):\n",
    "    return np.dot(self.weights, inputs)\n",
    "\n",
    "# This line adds the function we've written to our Perceptron class through a monkeypatch\n",
    "Perceptron._compute = _compute"
   ]
  },
  {
   "cell_type": "markdown",
   "metadata": {},
   "source": [
    "### Activation Function\n",
    "\n",
    "Now that we have a way to compute our **_Z-value_** (the dot-product of our weights and our inputs), we need to provide our Perceptron with a way to know if it should fire or not.  This function is called our **_Activation Function_**, and it's what makes our Perceptron a symbolic representation of a biological neuron!\n",
    "\n",
    "In the cell below, complete the `_activate()` function.  This function should:\n",
    "\n",
    "* Take in one parameter, `z`.\n",
    "* If `z` is less than `self.threshold`, the function should return `0`.  Otherwise, the function should return `1`."
   ]
  },
  {
   "cell_type": "code",
   "execution_count": 6,
   "metadata": {},
   "outputs": [],
   "source": [
    "def _activate(self, z):\n",
    "    return z >= self.threshold\n",
    "\n",
    "Perceptron._activate = _activate"
   ]
  },
  {
   "cell_type": "markdown",
   "metadata": {},
   "source": [
    "Our perceptron now has the ability to fire or not fire depending on the weighted sum of its inputs!  This means that our perceptron can make predictions on data. However, it's not capable of \"learning\" just yet.  For that, we need to give it the ability to update its weights based on feedback on the predictions it makes based on **_labeled training data_**.\n",
    " \n",
    "# TODO: Finish Explanation of Weight Update Rule"
   ]
  },
  {
   "cell_type": "code",
   "execution_count": 8,
   "metadata": {},
   "outputs": [],
   "source": [
    "def _update_weights(self, weight, z):\n",
    "    pass\n",
    "\n",
    "Perceptron._update_weights = _update_weights"
   ]
  },
  {
   "cell_type": "markdown",
   "metadata": {},
   "source": [
    "# Making Predictions\n",
    "\n",
    "## TODO: Finish Section on Making Predictions with Model"
   ]
  },
  {
   "cell_type": "code",
   "execution_count": 12,
   "metadata": {},
   "outputs": [],
   "source": [
    "def predict(self, inputs): \n",
    "    # For every item in inputs:\n",
    "    \n",
    "    # Compute Z\n",
    "    \n",
    "    # Feed z into activation function\n",
    "    \n",
    "    # Return vector of predictions \n",
    "    \n",
    "    pass\n",
    "\n",
    "Perceptron.predict = predict"
   ]
  },
  {
   "cell_type": "markdown",
   "metadata": {},
   "source": [
    "# Fitting Our Model\n",
    "\n",
    "## TODO: Finish Section on fitting the model"
   ]
  },
  {
   "cell_type": "code",
   "execution_count": 13,
   "metadata": {},
   "outputs": [],
   "source": [
    "def fit(self, inputs):\n",
    "    # Iterate through each input\n",
    "    \n",
    "    # Get Compute Z value for each input\n",
    "    \n",
    "    # Get activation for Z Value and compute error\n",
    "    \n",
    "    # Update weight for each input based on error\n",
    "    pass\n",
    "\n",
    "Perceptron.fit = fit"
   ]
  },
  {
   "cell_type": "markdown",
   "metadata": {},
   "source": [
    "# Putting It All Together\n",
    "\n",
    "## TODO: Finish section, train Perceptron on sample dataset"
   ]
  },
  {
   "cell_type": "code",
   "execution_count": null,
   "metadata": {},
   "outputs": [],
   "source": []
  },
  {
   "cell_type": "markdown",
   "metadata": {},
   "source": [
    "# Evaluating our Results\n",
    "\n",
    "## TODO: Build confusion matrix, compute accuracy/precision/recall/f1 score"
   ]
  },
  {
   "cell_type": "code",
   "execution_count": null,
   "metadata": {},
   "outputs": [],
   "source": []
  },
  {
   "cell_type": "markdown",
   "metadata": {},
   "source": [
    "# Where Single Perceptrons Fail\n",
    "\n",
    "## TODO: Add examples of non-linearly separable data.  "
   ]
  },
  {
   "cell_type": "markdown",
   "metadata": {},
   "source": [
    "# Conclusion"
   ]
  }
 ],
 "metadata": {
  "kernelspec": {
   "display_name": "Python 3",
   "language": "python",
   "name": "python3"
  },
  "language_info": {
   "codemirror_mode": {
    "name": "ipython",
    "version": 3
   },
   "file_extension": ".py",
   "mimetype": "text/x-python",
   "name": "python",
   "nbconvert_exporter": "python",
   "pygments_lexer": "ipython3",
   "version": "3.6.4"
  }
 },
 "nbformat": 4,
 "nbformat_minor": 2
}
